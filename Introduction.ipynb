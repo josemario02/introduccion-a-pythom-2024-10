{
  "cells": [
    {
      "cell_type": "markdown",
      "metadata": {
        "id": "view-in-github",
        "colab_type": "text"
      },
      "source": [
        "<a href=\"https://colab.research.google.com/github/josemario02/introduccion-a-pythom-2024-10/blob/main/Introduction.ipynb\" target=\"_parent\"><img src=\"https://colab.research.google.com/assets/colab-badge.svg\" alt=\"Open In Colab\"/></a>"
      ]
    },
    {
      "cell_type": "markdown",
      "metadata": {
        "id": "VZA-YfwKnBbc"
      },
      "source": [
        "# Introducción a Python\n",
        "## Fundamentos de Programación\n",
        "### Ingeniería Electrónica UPB Montería (202410)\n",
        "- **Docente:** *Miguel Ortiz*\n",
        "- __email:__ _miguel.ortizp@upb.edu.co_\n"
      ]
    },
    {
      "cell_type": "code",
      "execution_count": null,
      "metadata": {
        "id": "egjbI1I1msBR"
      },
      "outputs": [],
      "source": [
        "# Comentarios\n",
        "\n",
        "# Todo lo que aparezca después de un # se considera un comentario\n",
        "# Sirven para:\n",
        "# - Dar información (contexto)\n",
        "# - Ayuda futura / Documentar\n",
        "# - Hacer pruebas"
      ]
    },
    {
      "cell_type": "code",
      "execution_count": null,
      "metadata": {
        "id": "RI65-J3ZnmM1"
      },
      "outputs": [],
      "source": [
        "# Print\n",
        "\n",
        "print(\"Hello World!\")"
      ]
    },
    {
      "cell_type": "code",
      "execution_count": null,
      "metadata": {
        "id": "lH12QuatoC8Q"
      },
      "outputs": [],
      "source": [
        "# Variables String (Básico)\n",
        "\n",
        "name = \"Jose\"\n",
        "lastname = \"Ramos\"\n",
        "\n",
        "print(name, lastname)"
      ]
    },
    {
      "cell_type": "code",
      "execution_count": null,
      "metadata": {
        "id": "yWtEsxlioZpx"
      },
      "outputs": [],
      "source": [
        "# Type\n",
        "\n",
        "fullname = \"Jose Ramos\"\n",
        "print(type(fullname))"
      ]
    },
    {
      "cell_type": "code",
      "execution_count": null,
      "metadata": {
        "id": "BSNfzn5-osPm"
      },
      "outputs": [],
      "source": [
        "# Más variables\n",
        "\n",
        "n = 56\n",
        "r = 3.14\n",
        "soleado = True\n",
        "pet = \"gato\"\n",
        "\n",
        "print(type(n))\n",
        "print(type(r))\n",
        "print(type(soleado))\n",
        "print(type(pet))"
      ]
    },
    {
      "cell_type": "code",
      "execution_count": null,
      "metadata": {
        "id": "_dxQ_8FAqewu"
      },
      "outputs": [],
      "source": [
        "a = 35\n",
        "b = -5\n",
        "c = a + b\n",
        "print(c)"
      ]
    },
    {
      "cell_type": "code",
      "execution_count": null,
      "metadata": {
        "id": "Eg40YRe1sDM-"
      },
      "outputs": [],
      "source": [
        "m = 7\n",
        "b = -2\n",
        "x = 5\n",
        "y = m *  x + b\n",
        "print(y)"
      ]
    },
    {
      "cell_type": "markdown",
      "source": [
        "## Markdown - Básico\n",
        "\n",
        "### Títulos\n",
        "\n",
        "Se colocan con `#`.\n",
        "\n",
        "### Estilo de letras\n",
        "\n",
        "Se colocan con `*` o `_` sencillos (para cursivas) o dobles (para negrita).\n",
        "\n",
        "### Code Snippet\n",
        "\n",
        "Utilizando el backtip (la tilde al revés):\n",
        "\n",
        "- La instrucción `print(name)` muestra el valor de la variable `name` en consola.\n",
        "\n",
        "Si es un bloque de código, se utilizan 3 backtip (al inicio y al final):\n",
        "\n",
        "```python\n",
        "a = 3\n",
        "b = 5\n",
        "c = a + b\n",
        "print(c)\n",
        "```\n",
        "\n",
        "### Salto de línea\n",
        "\n",
        "Utilice `<br>` o `\\` \\ <br/>\n",
        "Y 3 asteriscos (`***`) para la línea horizontal.\n",
        "\n",
        "***\n",
        "\n",
        "### Listas\n",
        "\n",
        "- Ordenadas: con números\n",
        "- Desordenadas: con `-` o `*`\n",
        "\n",
        "Ejemplo:\n",
        "- Leche\n",
        "- Huevo\n",
        "- Carnes\n",
        "  - Pescado\n",
        "  - Pollo\n",
        "\n",
        "1. Desconectar equipo\n",
        "2. Medir voltaje\n",
        "  1. En paralelo\n",
        "  2. En serie\n",
        "\n",
        "### Enlaces (links)\n",
        "\n",
        "Utilice `[texto](url)`\n",
        "\n",
        "[Ir a Google](https://www.google.com/)\n",
        "\n",
        "### LaTeX\n",
        "\n",
        "Utilice el signo `$`\n",
        "\n",
        "Ejemplo:\n",
        "\n",
        "La ecuación que relaciona el voltaje $V$ en una resistencia $R$ con su corriente $I$ se conoce como la Ley de Ohm:\n",
        "$$V =  RI$$"
      ],
      "metadata": {
        "id": "XuixBTQSvh3T"
      }
    },
    {
      "cell_type": "code",
      "execution_count": null,
      "metadata": {
        "id": "CJmomBKdvd9s"
      },
      "outputs": [],
      "source": [
        "# Continuación - Operaciones con números\n",
        "\n",
        "# Suma\n",
        "a = 3\n",
        "b = -4\n",
        "c = a + b\n",
        "print(a)\n",
        "\n",
        "# Resta\n",
        "d = 5\n",
        "e = 7\n",
        "f = d - e\n",
        "\n",
        "# Multiplicación\n",
        "a = b * c # reasignación de variables\n",
        "print(a)\n",
        "\n",
        "# División\n",
        "a = b / a\n",
        "print(a)\n",
        "\n",
        "# Módulo\n",
        "a = 6\n",
        "a = a % 2\n",
        "print(a)\n",
        "\n",
        "# Potencia\n",
        "a = 8\n",
        "print(a ** 2)\n",
        "print(a ** 3)\n",
        "print(a ** (1/2))\n",
        "print(a ** (1/3))"
      ]
    },
    {
      "cell_type": "code",
      "source": [
        "# Concatenar\n",
        "\n",
        "firstname = \"Miguel\"\n",
        "lastname = \"Ortiz\"\n",
        "fullname = lastname + \", \" + firstname\n",
        "print(fullname)"
      ],
      "metadata": {
        "id": "aCiXhFQz804k"
      },
      "execution_count": null,
      "outputs": []
    },
    {
      "cell_type": "code",
      "source": [
        "# +=\n",
        "\n",
        "a = 5\n",
        "a += 10\n",
        "print(a)\n",
        "a -= 8\n",
        "a *= 3\n",
        "a /= 2\n",
        "a **= 2\n",
        "print(a)"
      ],
      "metadata": {
        "id": "m2wFI7Wa-PFG"
      },
      "execution_count": null,
      "outputs": []
    },
    {
      "cell_type": "code",
      "source": [
        "# Multiline String\n",
        "\n",
        "my_text = \"\"\"\n",
        "Hola.\n",
        "Tal vez te preguntarás cómo llegué aquí.\n",
        "Bueno, esta es mi historia:\n",
        "blabla blabla\n",
        "\"\"\"\n",
        "\n",
        "print(my_text)"
      ],
      "metadata": {
        "id": "VNy0uw5P-2a7"
      },
      "execution_count": null,
      "outputs": []
    },
    {
      "cell_type": "markdown",
      "source": [
        "# Expresiones Booleanas\n",
        "Son aquellas que se evalúan como `True` o `False`.\n",
        "El computador no entiende las opiniones."
      ],
      "metadata": {
        "id": "3YqNeIBOIc_x"
      }
    },
    {
      "cell_type": "code",
      "source": [
        "# Expresiones Booleanas\n",
        "\n",
        "a = 3\n",
        "b = 5\n",
        "\n",
        "print(a == b)\n",
        "print(a != b)\n",
        "print(a > b)\n",
        "print(a < b)\n",
        "print(a >= b)\n",
        "print(a <= b)\n",
        "\n",
        "c = a == b\n",
        "print(c)"
      ],
      "metadata": {
        "id": "Rqi8Akoh_rQ5"
      },
      "execution_count": null,
      "outputs": []
    },
    {
      "cell_type": "markdown",
      "source": [
        "## Operadores Booleanos\n",
        "\n",
        "Se utilizan para realizar operaciones entre expresiones booleanas. Son `and`, `or`, y `not`."
      ],
      "metadata": {
        "id": "QImhtaWnJtPG"
      }
    },
    {
      "cell_type": "code",
      "source": [
        "# Operadores Booleanos\n",
        "\n",
        "a = 2\n",
        "b = 3\n",
        "# not\n",
        "d = not a == b\n",
        "c = not d\n",
        "print(d, c)\n",
        "\n",
        "# and\n",
        "e = d and not c\n",
        "print(d, c, e)\n",
        "\n",
        "# or\n",
        "e = d or c\n",
        "print(e)"
      ],
      "metadata": {
        "id": "jsucy72SIk6Y"
      },
      "execution_count": null,
      "outputs": []
    },
    {
      "cell_type": "markdown",
      "source": [
        "## Inputs\n",
        "\n",
        "Son las entradas de usuario por consola."
      ],
      "metadata": {
        "id": "3dmMuAzVPLxH"
      }
    },
    {
      "cell_type": "code",
      "source": [
        "firstname = input(\"Nombre: \")\n",
        "lastname = input(\"Apellido: \")\n",
        "fullname = firstname + ' ' + lastname\n",
        "print(\"Hola,\", fullname, \"¡Bienvenido a Python!\")"
      ],
      "metadata": {
        "id": "CY9XnwbHI3p1"
      },
      "execution_count": null,
      "outputs": []
    },
    {
      "cell_type": "markdown",
      "source": [
        "## Ejercicios\n",
        "\n",
        "1. Personal Information (Gaddis):\n",
        "> Design a program that displays the following information:\n",
        "> - Your name\n",
        "> - Your address, with city, state, and ZIP\n",
        "> - Your telephone number\n",
        "> - Your college major\n",
        "\n",
        "```\n",
        "Program personal_info_request\n",
        "// Programa para solicitar información personal\n",
        "Start\n",
        "\tDeclare String name, address, city, state, zip, college_major\n",
        "\tDeclare Integer phone_number\n",
        "\tDisplay \"Ingrese su nombre:\"\n",
        "\tInput name\n",
        "\tDisplay \"Ingrese su dirección: \"\n",
        "\tInput address\n",
        "\tDisplay \"Ingrese su ciudad: \"\n",
        "\tInput city\n",
        "\t...\n",
        "\tDisplay name, address, city, state, zip, college_major, phone_number\n",
        "Stop\n",
        "```"
      ],
      "metadata": {
        "id": "B9uqVAxbTT2y"
      }
    },
    {
      "cell_type": "code",
      "source": [
        "# name = \"Mikheltodd\"\n",
        "# address = \"Avenida Siempre Viva\"\n",
        "# city = \"Montería\"\n",
        "# state = \"Colombia\"\n",
        "# zip = \"230001\"\n",
        "# phone_number = \"1234555riente\"\n",
        "# college_major = \"Ingeniero de Memes\"\n",
        "\n",
        "name = input(\"Ingrese su nombre: \")\n",
        "address = input(\"Ingrese su dirección: \")\n",
        "city = input(\"Ingrese su ciudad: \")\n",
        "state = input(\"Ingrese su estado/país: \")\n",
        "zip = input(\"Ingrese su código ZIP: \")\n",
        "phone_number = input(\"Ingrese su número de teléfono: \")\n",
        "college_major = input(\"Ingrese su título universitario: \")\n",
        "\n",
        "i = 5\n",
        "message = f\"\"\"\n",
        "Datos del Usuario No. {str(i)}\n",
        "Esto es cierto? {True}\n",
        "Nombre: {name + address}\n",
        "Dirección: {address}\n",
        "Ciudad: {city}\n",
        "Estado: {state}\n",
        "Código ZIP: {zip}\n",
        "Número de Teléfono: {phone_number}\n",
        "Título Universitario: {college_major}\n",
        "\"\"\"\n",
        "\n",
        "print(message)"
      ],
      "metadata": {
        "id": "uIdUWha4Pqa6"
      },
      "execution_count": null,
      "outputs": []
    },
    {
      "cell_type": "code",
      "source": [
        "# Sales Prediction\n",
        "# A company has determined that its annual profit is typically 23 percent of total\n",
        "# sales. Design a program that asks the user to enter the projected amount of total\n",
        "# sales, and then displays the profit that will be made from that amount.\n",
        "# Hint: Use the value 0.23 to represent 23 percent.\n",
        "\n",
        "# Program Sales_Prediction\n",
        "# // Programa para la calcular las ganancias totales a partir de las ventas\n",
        "# Start\n",
        "\n",
        "# \tDeclare Real sales, profit\n",
        "# \tConstant Real margin = 0.23\n",
        "\n",
        "# \tDisplay \"Ingresa el monto total de las ventas: \"\n",
        "# \tInput sales\n",
        "\n",
        "# \tSet profit = sales * margin\n",
        "\n",
        "# \tDisplay \"Las utilidades fueron de \", profit\n",
        "\n",
        "# Stop\n"
      ],
      "metadata": {
        "id": "sEEDryw2XnBc"
      },
      "execution_count": null,
      "outputs": []
    },
    {
      "cell_type": "code",
      "source": [
        "# Suma de dos números\n",
        "\n",
        "# a = float(input(\"Ingrese el primer número: \"))\n",
        "# b = float(input(\"Ingrese el segundo número: \"))\n",
        "\n",
        "a = int(input(\"Ingrese el primer número: \"))\n",
        "b = int(input(\"Ingrese el segundo número: \"))\n",
        "c = a + b\n",
        "print(f\"La suma de {a} y {b} es {c}.\")"
      ],
      "metadata": {
        "id": "iHsSYjJ4Rguv"
      },
      "execution_count": null,
      "outputs": []
    },
    {
      "cell_type": "code",
      "source": [
        "#TOTAL_ACRE = 43500\n",
        "square_feet = float(input(\"Insert the total number of square feet in the tract: \"))\n",
        "#total = square_feet / TOTAL_ACRE\n",
        "print(f\"the total number of acres in the tract is (aquare_feet / 43500: , 2f).\")"
      ],
      "metadata": {
        "id": "D5dHJ8o_nZVh"
      },
      "execution_count": null,
      "outputs": []
    },
    {
      "cell_type": "code",
      "source": [
        "# Sales Tax\n",
        "# Design a program that will ask the user to enter the amount of a purchase. The\n",
        "# program should then compute the state and county sales tax. Assume the state\n",
        "# sales tax is 4 percent and the county sales tax is 2 percent. The program should display\n",
        "# the amount of the purchase, the state sales tax, the county sales tax, the total\n",
        "# sales tax, and the total of the sale (which is the sum of the amount of purchase plus\n",
        "# the total sales tax).\n",
        "# Hint: Use the value 0.02 to represent 2 percent, and 0.04 to represent 4 percent.\n",
        "\n",
        "# Program sales_tax\n",
        "# Start\n",
        "#   Declare Real purchase, state_sales_tax, county_sales_tax, total_sales_tax, total_sale\n",
        "#   Constant Real STATE_TAX = 0.04\n",
        "#   Constant Real COUNTY_TAX = 0.02\n",
        "\n",
        "#   Input purchase\n",
        "#   Set state_sales_tax = purchase  * STATE_TAX\n",
        "#   Set county_sales_tax = purchase  * COUNTY_TAX\n",
        "#   Set total_sales_tax = state_sales_tax + county_sales_tax\n",
        "#   Set total_sale = purchase + total_sales_tax\n",
        "#   Display purchase, state_sales_tax, county_sales_tax, total_sales_tax, total_sale\n",
        "# Stop\n",
        "\n",
        "\n",
        "STATE_TAX = 0.04\n",
        "COUNTY_TAX = 0.02\n",
        "purchase = float(input(\"Ingrese el valor de las compras: $\"))\n",
        "state_sales_tax = purchase  * STATE_TAX\n",
        "county_sales_tax = purchase  * COUNTY_TAX\n",
        "total_sales_tax = state_sales_tax + county_sales_tax\n",
        "total_sale = purchase + total_sales_tax\n",
        "print(\"-\" * 20)\n",
        "print(f\"Total Compra: ${purchase}\\nImpuestos de Estado: ${state_sales_tax}\\nImpuesto de Condado: ${county_sales_tax}\\nTotal Impuestos: ${total_sales_tax}\\nVenta Total: ${total_sale}\")\n",
        "print(\"-\" * 20)"
      ],
      "metadata": {
        "id": "Ha4zCqkayKd7"
      },
      "execution_count": null,
      "outputs": []
    },
    {
      "cell_type": "code",
      "source": [
        "# program calular_salario\n",
        "# //programa para calcular el salario a partir del numero de horas semanales\n",
        "# start\n",
        "# Declare Real horas, horas_extra, tarifa, tarifa_extra, salario_bruto, impuestos, salario_neto\n",
        "#   Declare String nombre\n",
        "#   Constant Real TASA_TARIFA_EXTRA = 0.5\n",
        "#   Constant Real IMP_BASE = 0.2\n",
        "#   Constant Real IMP_EXTRA = 0.3\n",
        "\n",
        "#   Input horas\n",
        "#   Input tarifa\n",
        "#   Input nombre\n",
        "\n",
        "#   If horas <= 35 then\n",
        "#     Set salario_bruto = horas * tarifa\n",
        "#   Else\n",
        "#     Set horas_extra = horas - 35\n",
        "#     Set tarifa_extra = tarifa * (1 + TASA_TARIFA_EXTRA)\n",
        "#     Set salario_bruto = tarifa * 35 + horas_extra * tarifa_extra\n",
        "#   End If\n",
        "\n",
        "#   If salario_bruto <= 2200 then\n",
        "#       Set impuestos = 0\n",
        "#   Else\n",
        "#   If salario_bruto <= 2420 then\n",
        "#            impuesto = 220 * IMP_BASE\n",
        "#   Else\n",
        "#impuesto = 220 * IMP_BASE + (salario_bruto - 2420) * IMP_EXTRA\n",
        "#End If\n",
        "# End If\n",
        "# Set salario_neto = salario_bruto + impuesto\n",
        "# Display \"el trabajador\", monbre, \"debe recibir\", salario_neto\n",
        "# stop"
      ],
      "metadata": {
        "id": "Mqvaoc3uIR9V"
      },
      "execution_count": null,
      "outputs": []
    },
    {
      "cell_type": "code",
      "source": [
        "# Program ecuacion_axb\n",
        "# // Programa para encontrar la solución de la ecuación ax+b=0\n",
        "# Start\n",
        "# \tDeclare Real a, b, x\n",
        "# \tInput a\n",
        "# \tInput b\n",
        "# \tIf a != 0 Then\n",
        "# \t\tSet x = -b / a\n",
        "# \t\tDisplay x\n",
        "# \tElse\n",
        "# \t\tIf b != 0 Then\n",
        "# \t\t\tDisplay 'Solución Imposible'\n",
        "# \t\tElse\n",
        "# \t\t\tDisplay 'Solución Indeterminada'\n",
        "# \t\tEnd If\n",
        "# \tEnd If\n",
        "# Stop\n",
        "\n",
        "# a = 0\n",
        "# b = 0\n",
        "\n",
        "a = float(input(\"Ingrese el valor de a: \"))\n",
        "b = float(input(\"Ingrese el valor de b: \"))\n",
        "\n",
        "if a != 0:\n",
        "  x = -b / a\n",
        "  print(x)\n",
        "else:\n",
        "  if b != 0:\n",
        "    print(\"Solución imposible.\")\n",
        "  else:\n",
        "    print(\"Solución indeterminada.\")"
      ],
      "metadata": {
        "id": "LkEq_FwNIeF5"
      },
      "execution_count": null,
      "outputs": []
    },
    {
      "cell_type": "code",
      "source": [
        "# Program calcular_salario\n",
        "# // Programa para calcular el salario a partir del número de horas semanal\n",
        "# Start\n",
        "# \tDeclare Real horas, horas_extra, tarifa, tarifa_extra, salario_bruto, impuesto, salario_neto\n",
        "# \tDeclare String nombre\n",
        "# \tConstant Real TASA_TARIFA_EXTRA = 0.5\n",
        "# \tConstant Real IMP_BASE = 0.2\n",
        "# \tConstant Real IMP_EXTRA = 0.3\n",
        "# \tInput horas\n",
        "# \tInput tarifa\n",
        "# \tInput nombre\n",
        "# \tIf horas <= 35 Then\n",
        "# \t\tSet salario_bruto = horas * tarifa\n",
        "# \tElse\n",
        "# \t\tSet horas_extra = horas - 35\n",
        "# \t\tSet tarifa_extra = tarifa * (1 + TASA_TARIFA_EXTRA)\n",
        "# \t\tSet salario_bruto = tarifa * 35 + horas_extra * tarifa_extra\n",
        "# \tEnd If\n",
        "# \tIf salario_bruto <= 2200 Then\n",
        "# \t\tSet impuesto = 0\n",
        "# \tElse\n",
        "# \t\tIf salario_bruto <= 2420 Then\n",
        "# \t\t\tSet impuesto = 220 * IMP_BASE\n",
        "# \t\tElse\n",
        "# \t\t\tSet impuesto = 220 * IMP_BASE + (salario_bruto - 2420) * IMP_EXTRA\n",
        "# \t\tEnd If\n",
        "# \tEnd If\n",
        "# \tSet salario_neto = salario_bruto + impuesto\n",
        "# \tDisplay 'El trabajador ', nombre, ' debe recibir $', salario_neto\n",
        "# Stop\n",
        "\n",
        "\n",
        "TASA_TARIFA_EXTRA = 0.5\n",
        "IMP_BASE = 0.2\n",
        "IMP_EXTRA = 0.3\n",
        "\n",
        "# horas = 35\n",
        "# tarifa = 75\n",
        "# nombre = \"Mikheltodd\"\n",
        "\n",
        "horas = float(input(\"Ingrese el número de horas: \"))\n",
        "tarifa = float(input(\"Ingrese el valor de la tarifa: \"))\n",
        "nombre = input(\"Ingrese el nombre del trabajador: \")\n",
        "\n",
        "if horas <= 35:\n",
        "  salario_bruto = horas * tarifa\n",
        "else:\n",
        "  horas_extra = horas - 35\n",
        "  tarifa_extra = tarifa * (1 + TASA_TARIFA_EXTRA)\n",
        "  salario_bruto = tarifa * 35 + horas_extra * tarifa_extra\n",
        "\n",
        "if salario_bruto <= 2200:\n",
        "  impuesto = 0\n",
        "else:\n",
        "  if salario_bruto <= 2420:\n",
        "    impuesto = 220 * IMP_BASE\n",
        "  else:\n",
        "    impuesto = 220 * IMP_BASE + (salario_bruto - 2420) * IMP_EXTRA\n",
        "\n",
        "salario_neto = salario_bruto + impuesto\n",
        "print(f\"El trabajador {nombre} debe recibir ${salario_neto}.\")"
      ],
      "metadata": {
        "id": "NHbAC7_SIjiZ"
      },
      "execution_count": null,
      "outputs": []
    },
    {
      "cell_type": "code",
      "source": [
        "# a = 3\n",
        "# b = 4\n",
        "# c = 5\n",
        "\n",
        "a = int(input(\"Ingrese el primer valor: \"))\n",
        "b = int(input(\"Ingrese el segundo valor: \"))\n",
        "c = int(input(\"Ingrese el tercer valor: \"))\n",
        "\n",
        "if a > b:\n",
        "  if a > c:\n",
        "    mayor = a\n",
        "  else:\n",
        "    mayor = c\n",
        "else:\n",
        "  if b > c:\n",
        "    mayor = b\n",
        "  else:\n",
        "    mayor = c\n",
        "print(f\"El número mayor es {mayor}.\")"
      ],
      "metadata": {
        "id": "7ZrftazAIqFn"
      },
      "execution_count": null,
      "outputs": []
    },
    {
      "cell_type": "code",
      "source": [
        "# a = 5\n",
        "# b = 5\n",
        "# c = 10\n",
        "\n",
        "a = int(input(\"Ingrese el primer valor: \"))\n",
        "b = int(input(\"Ingrese el segundo valor: \"))\n",
        "c = int(input(\"Ingrese el tercer valor: \"))\n",
        "\n",
        "if a > b:\n",
        "  if b > c:\n",
        "    print(a, b, c)\n",
        "  else:\n",
        "    if c > a:\n",
        "      print(c, a, b)\n",
        "    else:\n",
        "      print(a, c, b)\n",
        "else:\n",
        "  if a > c:\n",
        "    print(b, a, c)\n",
        "  else:\n",
        "    if c > b:\n",
        "      print(c, b, a)\n",
        "    else:\n",
        "      print(b, c, a)"
      ],
      "metadata": {
        "id": "LDG2ojCjIwrH"
      },
      "execution_count": null,
      "outputs": []
    },
    {
      "cell_type": "markdown",
      "source": [
        "Determinar el precio de un tiquete de ida y vuelta en avión, conociendo la distancia a recorrer y una tarifa por km. La tarifa tiene un descuento del 30% si la estancia es mayor a 7 días y la distancia es superior a 800 km"
      ],
      "metadata": {
        "id": "pvy3mG3mI19x"
      }
    },
    {
      "cell_type": "code",
      "source": [
        "# distancia = 900\n",
        "# tarifa = 1000\n",
        "# t = 8\n",
        "DISCOUNT = 0.3\n",
        "distancia = int(input(\"Ingrese la distancia en km: \"))\n",
        "tarifa = float(input(\"Ingrese la tarifa por km ($): \"))\n",
        "t = int(input(\"Ingrese el número de días de su estancia: \"))\n",
        "\n",
        "precio = 2 * distancia * tarifa\n",
        "if t > 7 and distancia > 800:\n",
        "  precio *= (1 - DISCOUNT)\n",
        "\n",
        "print(f\"El precio del tiquete ida y vuelta es ${precio:,}\")"
      ],
      "metadata": {
        "id": "kaPBUsvqI5Qx"
      },
      "execution_count": null,
      "outputs": []
    },
    {
      "cell_type": "code",
      "source": [
        "# Program determinar_cuadrante\n",
        "# Start\n",
        "# \tDeclare Real x, y\n",
        "\n",
        "# \tInput x\n",
        "# \tInput y\n",
        "\n",
        "# \tIf x == 0 OR y == 0 Then\n",
        "# \t\tDisplay \"Coordenada sobre uno o más ejes.\"\n",
        "# \tElse\n",
        "# \t\tIf x > 0 Then\n",
        "# \t\t\tIf y > 0 Then\n",
        "# \t\t\t\tDisplay \"Primer Cuadrante.\"\n",
        "# \t\t\tElse\n",
        "# \t\t\t\tDisplay \"Cuarto Cuadrante.\"\n",
        "# \t\t\tEnd If\n",
        "# \t\tElse\n",
        "# \t\t\tIf y > 0 Then\n",
        "# \t\t\t\tDisplay \"Segundi Cuadrante.\"\n",
        "# \t\t\tElse\n",
        "# \t\t\t\tDisplay \"Tercer Cuadrante.\"\n",
        "# \t\t\tEnd If\n",
        "# \t\tEnd If\n",
        "# \tEnd If\n",
        "# Stop\n",
        "\n",
        "x = float(input(\"Ingrese coordenada x: \"))\n",
        "y = float(input(\"Ingrese coordenada y: \"))\n",
        "\n",
        "# x = 3\n",
        "# y = -2\n",
        "\n",
        "if x == 0 or y == 0:\n",
        "  print(\"Coordenada sobre uno o más ejes.\")\n",
        "else:\n",
        "  if x > 0:\n",
        "    if y > 0:\n",
        "      print(\"Primer Cuadrante.\")\n",
        "    else:\n",
        "      print(\"Cuarto Cuadrante.\")\n",
        "  else:\n",
        "    if y > 0:\n",
        "      print(\"Segundo Cuadrante.\")\n",
        "    else:\n",
        "      print(\"Tercer Cuadrante.\")"
      ],
      "metadata": {
        "id": "K2xAfGlFI99k"
      },
      "execution_count": null,
      "outputs": []
    },
    {
      "cell_type": "code",
      "source": [
        "# Program distancia_mayor_que\n",
        "# Start\n",
        "# \tDeclare Real x1, x2, y1, y2, d, setpoint\n",
        "# \tInput x1\n",
        "# \tInput y1\n",
        "# \tInput x2\n",
        "# \tInput y2\n",
        "# \tInput setpoint\n",
        "\n",
        "# \tSet d = ((x2 - x1) ^ 2 + (y2 - y1) ^ 2) ^ (1 / 2)\n",
        "\n",
        "# \tIf d > setpoint Then\n",
        "# \t\tDisplay \"La distancia entre los puntos es MAYOR que el setpoint.\"\n",
        "# \tElse\n",
        "# \t\tDisplay \"La distancia entre los puntos es MENOR que el setpoint.\"\n",
        "# \tEnd If\n",
        "# Stop\n",
        "\n",
        "x1 = float(input(\"Ingrese coordenada x del primer punto: \"))\n",
        "y1 = float(input(\"Ingrese coordenada y del primer punto: \"))\n",
        "x2 = float(input(\"Ingrese coordenada x del segundo punto: \"))\n",
        "y2 = float(input(\"Ingrese coordenada x del segundo punto: \"))\n",
        "setpoint = float(input(\"Ingrese distancia de comparación: \"))\n",
        "\n",
        "# x1 = 2\n",
        "# y1 = -3\n",
        "# x2 = 0\n",
        "# y2 = 3\n",
        "# setpoint = 10\n",
        "\n",
        "d = ((x2 - x1) ** 2 + (y2 - y1) ** 2) ** (1 / 2)\n",
        "\n",
        "if d > setpoint:\n",
        "\tprint(\"La distancia entre los puntos es MAYOR que el setpoint.\")\n",
        "else:\n",
        "\tprint(\"La distancia entre los puntos es MENOR que el setpoint.\")"
      ],
      "metadata": {
        "id": "e3x0Tzl8JC6_"
      },
      "execution_count": null,
      "outputs": []
    },
    {
      "cell_type": "code",
      "source": [
        "import random\n",
        "print(\"Seleccione una opción:\\n1. Cara\\n2. Sello\")\n",
        "bet = int(input())\n",
        "x = random.choice([1, 2])\n",
        "# if x == bet:\n",
        "#   print(\"Ganaste\")\n",
        "# else:\n",
        "#   print(\"Perdiste\")\n",
        "\n",
        "print(\"Ganaste\") if  x == bet else print(\"Perdiste\")"
      ],
      "metadata": {
        "id": "EoWSYhn1JJho"
      },
      "execution_count": null,
      "outputs": []
    },
    {
      "cell_type": "code",
      "source": [
        "# Program calcular_factura\n",
        "# Start\n",
        "\n",
        "# \tDeclare Real h, consumo_base, tarifa, costo_unitario, consumo, total\n",
        "# \tDeclare String estrato\n",
        "\n",
        "# \tInput h\n",
        "# \tInput consumo\n",
        "# \tInput estrato\n",
        "# \tInput costo_unitario\n",
        "\n",
        "# \tIf h > 1000 Then\n",
        "# \t\tSet consumo_base = 130\n",
        "# \tElse\n",
        "# \t\tSet consumo_base = 173\n",
        "# \tEnd If\n",
        "\n",
        "# \tSelect estrato\n",
        "# \tCase '4':\n",
        "# \t\tSet tarifa = costo_unitario\n",
        "# \tCase '5', '6', 'comercial':\n",
        "# \t\tSet tarifa = costo_unitario * 1.2\n",
        "# \tCase '1':\n",
        "# \t\tSet tarifa = costo_unitario * 0.4\n",
        "# \tCase '2':\n",
        "# \t\tSet tarifa = costo_unitario * 0.5\n",
        "# \tCase '3':\n",
        "# \t\tSet tarifa = costo_unitario * 0.85\n",
        "# \tDefault:\n",
        "# \t\tDisplay \"Estrato no válido.\"\n",
        "# \t\tSet tarifa = 0\n",
        "# \tEnd Select\n",
        "\n",
        "# \tIf consumo < consumo_basico Then\n",
        "# \t\tSet total = tarifa * consumo\n",
        "# \tElse\n",
        "# \t\tSet total = consumo_basico * tarifa + (consumo - consumo_basico) * costo_unitario\n",
        "# \tEnd If\n",
        "\n",
        "# \tDisplay total\n",
        "# Stop\n",
        "\n",
        "h = float(input(\"Ingrese la altura sobre el nivel del mar en metros: \"))\n",
        "consumo = float(input(\"Ingrese el consumo en kWh: \"))\n",
        "print(\"Seleccione el estrato: \")\n",
        "print(\"1. Estrato 1\\n2. Estrato 2\\n3. Estrato 3\\n4. Estrato 4\\n5. Estrato 5\\n6. Estrato 6\\n7. Comercial\")\n",
        "estrato = int(input(\"\"))\n",
        "costo_unitario = float(input(\"Ingrese el costo unitario en $: \"))\n",
        "\n",
        "# h = 1200\n",
        "# consumo = 180\n",
        "# estrato = '3'\n",
        "# costo_unitario = 500\n",
        "\n",
        "if h > 1000:\n",
        "  consumo_base = 130\n",
        "else:\n",
        "  consumo_base = 173\n",
        "\n",
        "if\testrato == 4:\n",
        "\ttarifa = costo_unitario\n",
        "elif estrato == 5 or estrato == 6 or estrato == 7:\n",
        "  tarifa = costo_unitario * 1.2\n",
        "elif estrato == 1:\n",
        "\ttarifa = costo_unitario * 0.4\n",
        "elif estrato == 2:\n",
        "\ttarifa = costo_unitario * 0.5\n",
        "elif estrato == 3:\n",
        "\ttarifa = costo_unitario * 0.85\n",
        "else:\n",
        "\tprint(\"Estrato no válido.\")\n",
        "\ttarifa = 0\n",
        "\n",
        "\n",
        "if consumo < consumo_base:\n",
        "\ttotal = tarifa * consumo\n",
        "else:\n",
        "\ttotal = consumo_base * tarifa + (consumo - consumo_base) * costo_unitario\n",
        "\n",
        "print(f\"Total: ${total}\")"
      ],
      "metadata": {
        "id": "EN70VxfgJPhn"
      },
      "execution_count": null,
      "outputs": []
    }
  ],
  "metadata": {
    "colab": {
      "private_outputs": true,
      "provenance": [],
      "include_colab_link": true
    },
    "kernelspec": {
      "display_name": "Python 3 (ipykernel)",
      "language": "python",
      "name": "python3"
    },
    "language_info": {
      "codemirror_mode": {
        "name": "ipython",
        "version": 3
      },
      "file_extension": ".py",
      "mimetype": "text/x-python",
      "name": "python",
      "nbconvert_exporter": "python",
      "pygments_lexer": "ipython3",
      "version": "3.12.1"
    }
  },
  "nbformat": 4,
  "nbformat_minor": 0
}